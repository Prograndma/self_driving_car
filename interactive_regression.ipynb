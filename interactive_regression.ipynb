{
 "cells": [
  {
   "cell_type": "markdown",
   "metadata": {},
   "source": [
    "# Data Preprocessing and Training "
   ]
  },
  {
   "cell_type": "markdown",
   "metadata": {},
   "source": [
    "### Camera\n",
    "For the guidance system, we used pre-recorded video feed of several controlled runs around a track. This provided the data that will be labelled using the `labeldata.py` script provided. "
   ]
  },
  {
   "cell_type": "markdown",
   "metadata": {},
   "source": [
    "### Load Data"
   ]
  },
  {
   "cell_type": "code",
   "execution_count": 2,
   "metadata": {},
   "outputs": [
    {
     "name": "stderr",
     "output_type": "stream",
     "text": [
      "/home/snell/pynis/lib/python3.8/site-packages/torchvision/io/image.py:13: UserWarning: Failed to load image Python extension: ''If you don't plan on using image functionality from `torchvision.io`, you can ignore this warning. Otherwise, there might be something wrong with your environment. Did you have `libjpeg` or `libpng` installed before building `torchvision` from source?\n",
      "  warn(\n"
     ]
    }
   ],
   "source": [
    "import torchvision.transforms as transforms\n",
    "from xy_dataset import XYDataset\n",
    "\n",
    "TASK = 'road_following'\n",
    "\n",
    "CATEGORIES = ['apex']\n",
    "\n",
    "TRANSFORMS = transforms.Compose([\n",
    "    transforms.ColorJitter(0.2, 0.2, 0.2, 0.2),\n",
    "    transforms.Resize((224, 224)),\n",
    "    transforms.ToTensor(),\n",
    "    transforms.Normalize([0.485, 0.456, 0.406], [0.229, 0.224, 0.225])\n",
    "])\n",
    "dataset = XYDataset('lane_following', CATEGORIES, TRANSFORMS, random_hflip=True)"
   ]
  },
  {
   "cell_type": "markdown",
   "metadata": {},
   "source": [
    "For the purpose of Data Collection, a separate module has been created that takes in pre-recorded video feed and allows for labelling through mouse detection. The following provided assumes that this module has been done prior. "
   ]
  },
  {
   "cell_type": "code",
   "execution_count": 5,
   "metadata": {},
   "outputs": [
    {
     "name": "stdout",
     "output_type": "stream",
     "text": [
      "16553\n",
      "(tensor([[[-0.3883, -0.4054, -0.6452,  ...,  1.8037,  1.8037,  1.8037],\n",
      "         [-0.6794, -0.7822, -0.9705,  ...,  1.8037,  1.8037,  1.8037],\n",
      "         [-1.3815, -1.5014, -1.5699,  ...,  1.8037,  1.8037,  1.8037],\n",
      "         ...,\n",
      "         [-0.4739, -0.5253, -0.4568,  ..., -0.9705, -1.0562, -0.9534],\n",
      "         [-0.5253, -0.5082, -0.4911,  ..., -0.9705, -1.0219, -0.9020],\n",
      "         [-0.5596, -0.5767, -0.5596,  ..., -1.0390, -1.0904, -1.0219]],\n",
      "\n",
      "        [[-0.3200, -0.2850, -0.4776,  ...,  1.9734,  1.9734,  1.9734],\n",
      "         [-0.4951, -0.5651, -0.7227,  ...,  1.9734,  1.9734,  1.9734],\n",
      "         [-1.1078, -1.1954, -1.2654,  ...,  1.9734,  1.9734,  1.9734],\n",
      "         ...,\n",
      "         [-0.2325, -0.2500, -0.1800,  ..., -0.6001, -0.7227, -0.6352],\n",
      "         [-0.2850, -0.2500, -0.2675,  ..., -0.6352, -0.6877, -0.5826],\n",
      "         [-0.3550, -0.3725, -0.3725,  ..., -0.7052, -0.7402, -0.7052]],\n",
      "\n",
      "        [[-0.0615, -0.0615, -0.2707,  ...,  2.1868,  2.1868,  2.1868],\n",
      "         [-0.3055, -0.3753, -0.5321,  ...,  2.1868,  2.1868,  2.1868],\n",
      "         [-0.8981, -0.9678, -1.0376,  ...,  2.1868,  2.1868,  2.1868],\n",
      "         ...,\n",
      "         [-0.0092, -0.0441,  0.0431,  ..., -0.3578, -0.4973, -0.4275],\n",
      "         [-0.0615, -0.0267, -0.0267,  ..., -0.3927, -0.4450, -0.3578],\n",
      "         [-0.1138, -0.1312, -0.1312,  ..., -0.4798, -0.5321, -0.4973]]]), 0, tensor([ 0.6458, -1.0000]))\n"
     ]
    }
   ],
   "source": [
    "print(len(dataset))\n",
    "print(dataset[0])"
   ]
  },
  {
   "cell_type": "markdown",
   "metadata": {},
   "source": [
    "### Model Setup"
   ]
  },
  {
   "cell_type": "code",
   "execution_count": 4,
   "metadata": {},
   "outputs": [
    {
     "name": "stderr",
     "output_type": "stream",
     "text": [
      "/home/snell/pynis/lib/python3.8/site-packages/torchvision/models/_utils.py:208: UserWarning: The parameter 'pretrained' is deprecated since 0.13 and may be removed in the future, please use 'weights' instead.\n",
      "  warnings.warn(\n",
      "/home/snell/pynis/lib/python3.8/site-packages/torchvision/models/_utils.py:223: UserWarning: Arguments other than a weight enum or `None` for 'weights' are deprecated since 0.13 and may be removed in the future. The current behavior is equivalent to passing `weights=ResNet18_Weights.IMAGENET1K_V1`. You can also use `weights=ResNet18_Weights.DEFAULT` to get the most up-to-date weights.\n",
      "  warnings.warn(msg)\n"
     ]
    }
   ],
   "source": [
    "import torch\n",
    "import torchvision\n",
    "\n",
    "device = torch.device('cuda')\n",
    "output_dim = 2 * len(dataset.categories)  # x, y coordinate for each category\n",
    "\n",
    "#############################################\n",
    "## Uncomment other models if desired\n",
    "#############################################\n",
    "\n",
    "# ALEXNET\n",
    "# model = torchvision.models.alexnet(pretrained=True)\n",
    "# model.classifier[-1] = torch.nn.Linear(4096, output_dim)\n",
    "\n",
    "# SQUEEZENET \n",
    "# model = torchvision.models.squeezenet1_1(pretrained=True)\n",
    "# model.classifier[1] = torch.nn.Conv2d(512, output_dim, kernel_size=1)\n",
    "# model.num_classes = len(dataset.categories)\n",
    "\n",
    "# RESNET 18\n",
    "model = torchvision.models.resnet18(pretrained=True)\n",
    "model.fc = torch.nn.Linear(512, output_dim)\n",
    "\n",
    "# RESNET 34\n",
    "# model = torchvision.models.resnet34(pretrained=True)\n",
    "# model.fc = torch.nn.Linear(512, output_dim)\n",
    "\n",
    "# DENSENET 121\n",
    "# model = torchvision.models.densenet121(pretrained=True)\n",
    "# model.classifier = torch.nn.Linear(model.num_features, output_dim)\n",
    "\n",
    "model = model.to(device)\n",
    "\n",
    "def load_model(c):\n",
    "    model.load_state_dict(torch.load(model_path_widget.value))\n",
    "\n",
    "    \n",
    "def save_model(c, save_path=\"Car_Model.pth\"):\n",
    "    torch.save(model.state_dict(), save_path)"
   ]
  },
  {
   "cell_type": "markdown",
   "metadata": {},
   "source": [
    "### Training"
   ]
  },
  {
   "cell_type": "code",
   "execution_count": 5,
   "metadata": {},
   "outputs": [],
   "source": [
    "BATCH_SIZE = 8\n",
    "\n",
    "optimizer = torch.optim.Adam(model.parameters())\n",
    "\n",
    "def train_eval(is_training, epochs_value=1):\n",
    "    global BATCH_SIZE, LEARNING_RATE, MOMENTUM, model, dataset, optimizer, eval_button, train_button, accuracy_widget, loss_widget, progress_widget, state_widget\n",
    "    \n",
    "    train_loader = torch.utils.data.DataLoader(\n",
    "        dataset,\n",
    "        batch_size=BATCH_SIZE,\n",
    "        shuffle=True\n",
    "    )\n",
    "\n",
    "    time.sleep(1)\n",
    "\n",
    "    if is_training:\n",
    "        model = model.train()\n",
    "    else:\n",
    "        model = model.eval()\n",
    "\n",
    "    while epochs_value > 0:\n",
    "        i = 0\n",
    "        sum_loss = 0.0\n",
    "        error_count = 0.0\n",
    "        for images, category_idx, xy in iter(train_loader):\n",
    "            # send data to device\n",
    "            images = images.to(device)\n",
    "            xy = xy.to(device)\n",
    "\n",
    "            if is_training:\n",
    "                # zero gradients of parameters\n",
    "                optimizer.zero_grad()\n",
    "\n",
    "            # execute model to get outputs\n",
    "            outputs = model(images)\n",
    "\n",
    "            # compute MSE loss over x, y coordinates for associated categories\n",
    "            loss = 0.0\n",
    "            for batch_idx, cat_idx in enumerate(list(category_idx.flatten())):\n",
    "                loss += torch.mean((outputs[batch_idx][2 * cat_idx:2 * cat_idx+2] - xy[batch_idx])**2)\n",
    "            loss /= len(category_idx)\n",
    "\n",
    "            if is_training:\n",
    "                # run backpropogation to accumulate gradients\n",
    "                loss.backward()\n",
    "\n",
    "                # step optimizer to adjust parameters\n",
    "                optimizer.step()\n",
    "\n",
    "            # increment progress\n",
    "            count = len(category_idx.flatten())\n",
    "            i += count\n",
    "            sum_loss += float(loss)\n",
    "            epochs_value -= 1\n",
    "            \n",
    "        if is_training:\n",
    "            pass\n",
    "        else:\n",
    "            break\n",
    "\n",
    "    "
   ]
  },
  {
   "cell_type": "markdown",
   "metadata": {},
   "source": [
    "With the training function setup, run the following to complete the training process. "
   ]
  },
  {
   "cell_type": "code",
   "execution_count": 6,
   "metadata": {},
   "outputs": [
    {
     "name": "stdout",
     "output_type": "stream",
     "text": [
      "Elapsed time: 5595.091841936111\n",
      "Saving model...\n",
      "Model saved!\n",
      "Elapsed time: 0.49799370765686035\n",
      "DONE\n"
     ]
    }
   ],
   "source": [
    "import time\n",
    "start = time.time()\n",
    "train_eval(True, 8)\n",
    "print(f\"Elapsed time: {time.time() - start}\")\n",
    "start = time.time()\n",
    "print(\"Saving model...\")\n",
    "save_model(model, \"lane_following_model.pth\")\n",
    "print(f\"Model saved!\\nElapsed time: {time.time() - start}\\nDONE\")"
   ]
  }
 ],
 "metadata": {
  "kernelspec": {
   "display_name": "Python 3 (ipykernel)",
   "language": "python",
   "name": "python3"
  },
  "language_info": {
   "codemirror_mode": {
    "name": "ipython",
    "version": 3
   },
   "file_extension": ".py",
   "mimetype": "text/x-python",
   "name": "python",
   "nbconvert_exporter": "python",
   "pygments_lexer": "ipython3",
   "version": "3.8.10"
  }
 },
 "nbformat": 4,
 "nbformat_minor": 4
}
