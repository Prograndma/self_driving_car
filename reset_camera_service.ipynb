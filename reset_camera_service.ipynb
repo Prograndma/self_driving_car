{
 "cells": [
  {
   "cell_type": "markdown",
   "id": "clear-monday",
   "metadata": {},
   "source": [
    "# Reset camera service"
   ]
  },
  {
   "cell_type": "markdown",
   "id": "scheduled-python",
   "metadata": {},
   "source": [
    "Run the following command to restart the camera service, in case you run into a trouble using the camera.\n"
   ]
  },
  {
   "cell_type": "code",
   "execution_count": 2,
   "id": "enhanced-extent",
   "metadata": {
    "tags": []
   },
   "outputs": [
    {
     "name": "stdout",
     "output_type": "stream",
     "text": [
      "[sudo] password for snell: Sorry, try again.\n",
      "[sudo] password for snell: \n",
      "sudo: no password was provided\n",
      "sudo: 1 incorrect password attempt\n"
     ]
    }
   ],
   "source": [
    "!echo $USER | sudo -S systemctl restart nvargus-daemon "
   ]
  },
  {
   "cell_type": "code",
   "execution_count": null,
   "id": "choice-crash",
   "metadata": {},
   "outputs": [],
   "source": []
  }
 ],
 "metadata": {
  "kernelspec": {
   "display_name": "Python 3 (ipykernel)",
   "language": "python",
   "name": "python3"
  },
  "language_info": {
   "codemirror_mode": {
    "name": "ipython",
    "version": 3
   },
   "file_extension": ".py",
   "mimetype": "text/x-python",
   "name": "python",
   "nbconvert_exporter": "python",
   "pygments_lexer": "ipython3",
   "version": "3.8.10"
  }
 },
 "nbformat": 4,
 "nbformat_minor": 5
}
